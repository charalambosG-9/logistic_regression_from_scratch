{
 "cells": [
  {
   "cell_type": "code",
   "execution_count": 1,
   "metadata": {},
   "outputs": [],
   "source": [
    "# Imports\n",
    "\n",
    "import numpy as np\n",
    "from sklearn import datasets\n",
    "from sklearn.model_selection import train_test_split\n",
    "from sklearn.metrics import accuracy_score, confusion_matrix, recall_score, precision_score, f1_score \n",
    "from sklearn.linear_model import LogisticRegression\n",
    "from scipy.special import expit\n",
    "\n"
   ]
  },
  {
   "cell_type": "code",
   "execution_count": 2,
   "metadata": {},
   "outputs": [],
   "source": [
    "# Load input data and labels\n",
    "\n",
    "dataset = datasets.load_breast_cancer()\n",
    "\n",
    "x, y = dataset.data, dataset.target\n",
    "\n",
    "X_train, X_test, Y_train, Y_test = train_test_split(x, y, test_size=0.2, random_state=42)"
   ]
  },
  {
   "cell_type": "code",
   "execution_count": 3,
   "metadata": {},
   "outputs": [],
   "source": [
    "# Helper function to evaluate model performance\n",
    "def evaluate(y_true, y_pred):\n",
    "    print(f\"Accuracy: {accuracy_score(y_true, y_pred)}\")\n",
    "    print(f\"Precision: {precision_score(y_true, y_pred)}\")\n",
    "    print(f\"Recall: {recall_score(y_true, y_pred)}\")\n",
    "    print(f\"F1 Score: {f1_score(y_true, y_pred)}\")\n",
    "    print(f\"Confusion Matrix: \\n{confusion_matrix(y_true, y_pred)}\")"
   ]
  },
  {
   "cell_type": "code",
   "execution_count": 9,
   "metadata": {},
   "outputs": [
    {
     "name": "stdout",
     "output_type": "stream",
     "text": [
      "Accuracy: 0.956140350877193\n",
      "Precision: 0.9459459459459459\n",
      "Recall: 0.9859154929577465\n",
      "F1 Score: 0.9655172413793103\n",
      "Confusion Matrix: \n",
      "[[39  4]\n",
      " [ 1 70]]\n"
     ]
    }
   ],
   "source": [
    "# Implement Logistic Regression using sklearn\n",
    "\n",
    "regressor = LogisticRegression(max_iter=5000)\n",
    "regressor.fit(X_train, Y_train)\n",
    "\n",
    "# Predict\n",
    "predictions = regressor.predict(X_test)\n",
    "\n",
    "# Evaluate\n",
    "evaluate(Y_test, predictions)"
   ]
  },
  {
   "cell_type": "code",
   "execution_count": 19,
   "metadata": {},
   "outputs": [],
   "source": [
    "# Implementing Logistic Regressor class from scratch\n",
    "\n",
    "class Logistic_regressor():\n",
    "\n",
    "    def __init__(self, n_iter=5000, learning_rate=0.01, l2_reg = 1e-5):\n",
    "        self.n_iter = n_iter\n",
    "        self.learning_rate = learning_rate\n",
    "        self.l2_reg = l2_reg\n",
    "        self.weights = None\n",
    "        self.bias = None\n",
    "        self.losses = []\n",
    "\n",
    "    def sigmoid(self, x):\n",
    "        # return 1 / (1 + np.exp(-x))\n",
    "        return expit(x)\n",
    "\n",
    "    def binary_cross_entropy_loss(self, y_true, y_pred, weights, l2_reg):\n",
    "        epsilon = 1e-10  \n",
    "\n",
    "        bce_loss = -np.mean(y_true * np.log(y_pred + epsilon) + (1 - y_true) * np.log(1 - y_pred + epsilon))\n",
    "\n",
    "        l2_term = l2_reg * np.sum(weights ** 2) / len(y_true)  \n",
    "\n",
    "        total_loss = bce_loss + l2_term\n",
    "\n",
    "        return total_loss\n",
    "    \n",
    "    def fit(self, X, Y):\n",
    "        n_samples, n_features = X.shape\n",
    "        self.weights = np.zeros(n_features)\n",
    "        self.bias = 0\n",
    "        for _ in range(self.n_iter):\n",
    "            A = self.sigmoid(np.dot(X, self.weights) + self.bias)\n",
    "            self.losses.append(self.binary_cross_entropy_loss(Y, A, self.weights, self.l2_reg))\n",
    "            dz = (A - Y) / (A * (1 - A) + 1e-10) # Derivative of loss function\n",
    "            dw = (1 / n_samples) * (np.dot(X.T, dz))\n",
    "            db = (1 / n_samples) * np.sum(dz)\n",
    "            self.weights -= self.learning_rate * dw\n",
    "            self.bias -= self.learning_rate * db\n",
    "    \n",
    "    def predict(self, X):\n",
    "        threshold = 0.5\n",
    "        y_hat = np.dot(X, self.weights) + self.bias\n",
    "        y_predicted = self.sigmoid(y_hat)\n",
    "        y_predicted_cls = [1 if i > threshold else 0 for i in y_predicted]\n",
    "        return np.asarray(y_predicted_cls)\n"
   ]
  },
  {
   "cell_type": "code",
   "execution_count": 20,
   "metadata": {},
   "outputs": [
    {
     "name": "stdout",
     "output_type": "stream",
     "text": [
      "Accuracy: 0.9649122807017544\n",
      "Precision: 0.958904109589041\n",
      "Recall: 0.9859154929577465\n",
      "F1 Score: 0.9722222222222222\n",
      "Confusion Matrix: \n",
      "[[40  3]\n",
      " [ 1 70]]\n"
     ]
    }
   ],
   "source": [
    "my_regressor = Logistic_regressor(n_iter=5000, learning_rate=0.01, l2_reg=1e-5)\n",
    "my_regressor.fit(X_train, Y_train)\n",
    "my_predictions = my_regressor.predict(X_test)\n",
    "\n",
    "# Evaluate\n",
    "evaluate(Y_test, my_predictions)"
   ]
  }
 ],
 "metadata": {
  "kernelspec": {
   "display_name": "Python 3",
   "language": "python",
   "name": "python3"
  },
  "language_info": {
   "codemirror_mode": {
    "name": "ipython",
    "version": 3
   },
   "file_extension": ".py",
   "mimetype": "text/x-python",
   "name": "python",
   "nbconvert_exporter": "python",
   "pygments_lexer": "ipython3",
   "version": "3.9.7"
  }
 },
 "nbformat": 4,
 "nbformat_minor": 2
}
